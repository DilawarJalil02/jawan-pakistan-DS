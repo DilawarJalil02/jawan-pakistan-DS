{
  "nbformat": 4,
  "nbformat_minor": 0,
  "metadata": {
    "colab": {
      "name": "assignment_1.ipynb",
      "provenance": [],
      "authorship_tag": "ABX9TyOgF9FhSKe912dxg5/sUqhG",
      "include_colab_link": true
    },
    "kernelspec": {
      "name": "python3",
      "display_name": "Python 3"
    },
    "language_info": {
      "name": "python"
    }
  },
  "cells": [
    {
      "cell_type": "markdown",
      "metadata": {
        "id": "view-in-github",
        "colab_type": "text"
      },
      "source": [
        "<a href=\"https://colab.research.google.com/github/dilawarHakimi/jawan-pakistan-DS/blob/main/assignment_1.ipynb\" target=\"_parent\"><img src=\"https://colab.research.google.com/assets/colab-badge.svg\" alt=\"Open In Colab\"/></a>"
      ]
    },
    {
      "cell_type": "markdown",
      "source": [
        "**1. Write a Python program to print the following string in a specific format\n",
        "(see the output).\n",
        " Twinkle, twinkle, little star,\n",
        "         How I wonder what you are!\n",
        "                 Up above the world so high,\n",
        "                 Like a diamond in the sky.\n",
        " Twinkle, twinkle, little star,\n",
        "         How I wonder what you are!**"
      ],
      "metadata": {
        "id": "5qbXchcBc2OQ"
      }
    },
    {
      "cell_type": "code",
      "source": [
        "print(\"Twinkle, twinkle, little star, \\n\\tHow I wonder what you are! \\n\\t\\tUp above the world so high, \\n\\t\\tLike a diamond in the sky. \\nTwinkle, twinkle, little star, \\n\\tHow I wonder what you are!\")"
      ],
      "metadata": {
        "colab": {
          "base_uri": "https://localhost:8080/"
        },
        "id": "oFP4Vc9Tc0IQ",
        "outputId": "f8cc5ecf-0b3b-4a41-f548-de74a8db2686"
      },
      "execution_count": 1,
      "outputs": [
        {
          "output_type": "stream",
          "name": "stdout",
          "text": [
            "Twinkle, twinkle, little star, \n",
            "\tHow I wonder what you are! \n",
            "\t\tUp above the world so high, \n",
            "\t\tLike a diamond in the sky. \n",
            "Twinkle, twinkle, little star, \n",
            "\tHow I wonder what you are!\n"
          ]
        }
      ]
    },
    {
      "cell_type": "markdown",
      "source": [
        "**2. Write a Python program to get the Python version you are using**"
      ],
      "metadata": {
        "id": "hFWz9TZndAy5"
      }
    },
    {
      "cell_type": "code",
      "execution_count": 2,
      "metadata": {
        "colab": {
          "base_uri": "https://localhost:8080/"
        },
        "id": "mYxvFP6kYhIk",
        "outputId": "ba196a09-c416-4501-d6aa-2ad9c657e583"
      },
      "outputs": [
        {
          "output_type": "stream",
          "name": "stdout",
          "text": [
            "Python version that im using !!!\n",
            "3.7.12 (default, Sep 10 2021, 00:21:48) \n",
            "[GCC 7.5.0]\n",
            "Version info.\n",
            "sys.version_info(major=3, minor=7, micro=12, releaselevel='final', serial=0)\n"
          ]
        }
      ],
      "source": [
        "import sys\n",
        "print(\"Python version that im using !!!\")\n",
        "print (sys.version)\n",
        "print(\"Version info.\")\n",
        "print (sys.version_info)"
      ]
    },
    {
      "cell_type": "markdown",
      "source": [
        "**3. Write a Python program to display the current date and time.**"
      ],
      "metadata": {
        "id": "siQIZbzGdDiF"
      }
    },
    {
      "cell_type": "code",
      "source": [
        "import datetime\n",
        "a = datetime.datetime.now()\n",
        "\n",
        "print (\"Current date and time in am ,pm format : \")\n",
        "print (a.strftime(\"%d-%m-%Y %I:%M:%S %p\"))\n",
        "\n",
        "print (\"Current date and time 24 hour format : \")\n",
        "print (a.strftime(\"%Y-%m-%d %H:%M:%S\"))"
      ],
      "metadata": {
        "colab": {
          "base_uri": "https://localhost:8080/"
        },
        "id": "_YWu0mVCdEc9",
        "outputId": "5d86e17b-40ee-41fb-9819-e10801affa8c"
      },
      "execution_count": 3,
      "outputs": [
        {
          "output_type": "stream",
          "name": "stdout",
          "text": [
            "Current date and time in am ,pm format : \n",
            "01-01-2022 04:28:47 PM\n",
            "Current date and time 24 hour format : \n",
            "2022-01-01 16:28:47\n"
          ]
        }
      ]
    },
    {
      "cell_type": "markdown",
      "source": [
        "**4. Write a Python program which accepts the radius of a circle from the user\n",
        "and compute the area.**"
      ],
      "metadata": {
        "id": "X2qBfoQmdFAc"
      }
    },
    {
      "cell_type": "code",
      "source": [
        "pi=3.14\n",
        "radius =float (input ('Enter the radius of a circle'))\n",
        "area=pi*radius*radius\n",
        "print(\"Area of the circle is : %.2f\"  %area)"
      ],
      "metadata": {
        "colab": {
          "base_uri": "https://localhost:8080/"
        },
        "id": "ad7Ph53RdFRm",
        "outputId": "fff76a30-56cb-44d8-c043-33076cbb0626"
      },
      "execution_count": 4,
      "outputs": [
        {
          "output_type": "stream",
          "name": "stdout",
          "text": [
            "Enter the radius of a circle0.6\n",
            "Area of the circle is : 1.13\n"
          ]
        }
      ]
    },
    {
      "cell_type": "markdown",
      "source": [
        "**5. Write a Python program which accepts the user's first and last name and\n",
        "print them in reverse order with a space between them.**"
      ],
      "metadata": {
        "id": "CkWbpNy5dFm5"
      }
    },
    {
      "cell_type": "code",
      "source": [
        "first_name = input(\"Enter your First Name : \")\n",
        "last_name = input(\"Enter your Last Name : \")\n",
        "print (last_name + \" \" + first_name)"
      ],
      "metadata": {
        "colab": {
          "base_uri": "https://localhost:8080/"
        },
        "id": "asl8CloudF4v",
        "outputId": "9525b965-6688-419e-dc37-7bd3a43621ba"
      },
      "execution_count": 6,
      "outputs": [
        {
          "output_type": "stream",
          "name": "stdout",
          "text": [
            "Enter your First Name : Dilawar\n",
            "Enter your Last Name : Jalil\n",
            "Jalil Dilawar\n"
          ]
        }
      ]
    },
    {
      "cell_type": "markdown",
      "source": [
        "**6. Write a python program which takes two inputs from user and print them\n",
        "additiont**"
      ],
      "metadata": {
        "id": "VpwfKNJNd7S-"
      }
    },
    {
      "cell_type": "code",
      "source": [
        "a = int(input(\"Enter first number for addition :\"))\n",
        "b = int(input(\"Enter second number for addition :\"))\n",
        "print(\"Numbers after addition :\", a+b)"
      ],
      "metadata": {
        "colab": {
          "base_uri": "https://localhost:8080/"
        },
        "id": "KcaXVSQ_d7it",
        "outputId": "58e0f5b6-ffc0-4d81-fd9a-1327c8e7a898"
      },
      "execution_count": 7,
      "outputs": [
        {
          "output_type": "stream",
          "name": "stdout",
          "text": [
            "Enter first number for addition :20\n",
            "Enter second number for addition :30\n",
            "Numbers after addition : 50\n"
          ]
        }
      ]
    },
    {
      "cell_type": "code",
      "source": [
        ""
      ],
      "metadata": {
        "id": "6KGJJjJleddv"
      },
      "execution_count": null,
      "outputs": []
    }
  ]
}